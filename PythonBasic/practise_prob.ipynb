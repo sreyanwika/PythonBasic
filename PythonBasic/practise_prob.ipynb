{
  "nbformat": 4,
  "nbformat_minor": 0,
  "metadata": {
    "colab": {
      "provenance": [],
      "collapsed_sections": [],
      "authorship_tag": "ABX9TyPtf5AnY4NrDV39FZ8jnYY8",
      "include_colab_link": true
    },
    "kernelspec": {
      "name": "python3",
      "display_name": "Python 3"
    },
    "language_info": {
      "name": "python"
    }
  },
  "cells": [
    {
      "cell_type": "markdown",
      "metadata": {
        "id": "view-in-github",
        "colab_type": "text"
      },
      "source": [
        "<a href=\"https://colab.research.google.com/github/sreyanwika/PythonBasic/blob/main/PythonBasic/practise_prob.ipynb\" target=\"_parent\"><img src=\"https://colab.research.google.com/assets/colab-badge.svg\" alt=\"Open In Colab\"/></a>"
      ]
    },
    {
      "cell_type": "markdown",
      "source": [
        "#module 2@10 june\n"
      ],
      "metadata": {
        "id": "5xBRguFhMT8p"
      }
    },
    {
      "cell_type": "code",
      "execution_count": null,
      "metadata": {
        "colab": {
          "base_uri": "https://localhost:8080/"
        },
        "id": "WVJpug7mMNvd",
        "outputId": "0be12656-00f8-4ee7-d7f6-168a471138a4"
      },
      "outputs": [
        {
          "output_type": "stream",
          "name": "stdout",
          "text": [
            "2\n"
          ]
        }
      ],
      "source": [
        "#lists\n",
        "#accessing lists\n",
        "my_bag=[1,2,3,4,5]\n",
        "print(my_bag[1])"
      ]
    },
    {
      "cell_type": "code",
      "source": [
        "#accessing nested lists\n",
        "my_bag=['happp','mommm',[1,4,7,8]]\n",
        "print(my_bag[1][2])\n",
        "print(my_bag[2][2])\n"
      ],
      "metadata": {
        "colab": {
          "base_uri": "https://localhost:8080/"
        },
        "id": "NPC-i5FwQJt9",
        "outputId": "bb34304f-f5ef-45f6-b446-f7604212d5fc"
      },
      "execution_count": null,
      "outputs": [
        {
          "output_type": "stream",
          "name": "stdout",
          "text": [
            "m\n",
            "7\n"
          ]
        }
      ]
    },
    {
      "cell_type": "code",
      "source": [
        "#negative indexing\n",
        "my_bag=['happp','mommm',[1,4,7,8]]\n",
        "print(my_bag[0][-1])\n",
        "print(my_bag[-1])"
      ],
      "metadata": {
        "colab": {
          "base_uri": "https://localhost:8080/"
        },
        "id": "TltuoLDZQqcm",
        "outputId": "8235a9ba-84c9-4af1-f4b4-44d13969515a"
      },
      "execution_count": null,
      "outputs": [
        {
          "output_type": "stream",
          "name": "stdout",
          "text": [
            "p\n",
            "[1, 4, 7, 8]\n"
          ]
        }
      ]
    },
    {
      "cell_type": "code",
      "source": [
        "#slicing ele\n",
        "my_tug=['p','a','r','t','n','e','r']\n",
        "print(my_tug[2:4])\n",
        "print(my_tug[:4])\n",
        "print(my_tug[:-4])\n",
        "print(my_tug[4:])\n",
        "print(my_tug[:])"
      ],
      "metadata": {
        "colab": {
          "base_uri": "https://localhost:8080/"
        },
        "id": "zPiuVUxwRJtp",
        "outputId": "6fe9f471-6da8-4a0d-8f22-e8352210ea38"
      },
      "execution_count": null,
      "outputs": [
        {
          "output_type": "stream",
          "name": "stdout",
          "text": [
            "['r', 't']\n",
            "['p', 'a', 'r', 't']\n",
            "['p', 'a', 'r']\n",
            "['n', 'e', 'r']\n",
            "['p', 'a', 'r', 't', 'n', 'e', 'r']\n"
          ]
        }
      ]
    },
    {
      "cell_type": "code",
      "source": [
        "#updating elements with slicing\n",
        "my_tug=['p','a','r','t','n','e','r']\n",
        "my_tug[2:4]=4,5\n",
        "print(my_tug)\n",
        "my_tug[0]='v'\n",
        "print(my_tug)"
      ],
      "metadata": {
        "colab": {
          "base_uri": "https://localhost:8080/"
        },
        "id": "O2Kk2wbVTDrn",
        "outputId": "3553c624-f421-4b3e-f2a7-28d7a448ae9a"
      },
      "execution_count": null,
      "outputs": [
        {
          "output_type": "stream",
          "name": "stdout",
          "text": [
            "['p', 'a', 4, 5, 'n', 'e', 'r']\n",
            "['v', 'a', 4, 5, 'n', 'e', 'r']\n"
          ]
        }
      ]
    },
    {
      "cell_type": "code",
      "source": [
        "#adding ele to list\n",
        "#adding single item\n"
      ],
      "metadata": {
        "id": "65_1sms7VFk6"
      },
      "execution_count": null,
      "outputs": []
    },
    {
      "cell_type": "code",
      "source": [
        "my_tug=['p','a','r','t','n','e','r']\n",
        "my_tug.append(9)\n",
        "print(my_tug)"
      ],
      "metadata": {
        "id": "mABJq7FlVFww",
        "outputId": "1b14c158-423f-491b-baba-fe32e2daaaef",
        "colab": {
          "base_uri": "https://localhost:8080/"
        }
      },
      "execution_count": null,
      "outputs": [
        {
          "output_type": "stream",
          "name": "stdout",
          "text": [
            "['p', 'a', 'r', 't', 'n', 'e', 'r', 9]\n"
          ]
        }
      ]
    },
    {
      "cell_type": "code",
      "source": [
        "#adding mul ele\n",
        "my_tug=['p','a','r','t','n','e','r']\n",
        "my_tug.extend([7,8,9])\n",
        "print(my_tug)"
      ],
      "metadata": {
        "id": "DbkG_92kVbQZ",
        "outputId": "be3ee10e-2b7f-42cb-bdb9-3a89406482ec",
        "colab": {
          "base_uri": "https://localhost:8080/"
        }
      },
      "execution_count": null,
      "outputs": [
        {
          "output_type": "stream",
          "name": "stdout",
          "text": [
            "['p', 'a', 'r', 't', 'n', 'e', 'r', 7, 8, 9]\n"
          ]
        }
      ]
    },
    {
      "cell_type": "code",
      "source": [
        "#concatenate list\n",
        "my_tug=['p','a','r','t','n','e','r']\n",
        "my_tug+[11,12,13]\n"
      ],
      "metadata": {
        "id": "-8x1AvXcV0FZ",
        "outputId": "6307f938-6c18-461a-d0b9-86ebd180569d",
        "colab": {
          "base_uri": "https://localhost:8080/"
        }
      },
      "execution_count": null,
      "outputs": [
        {
          "output_type": "execute_result",
          "data": {
            "text/plain": [
              "['p', 'a', 'r', 't', 'n', 'e', 'r', 11, 12, 13]"
            ]
          },
          "metadata": {},
          "execution_count": 15
        }
      ]
    },
    {
      "cell_type": "code",
      "source": [
        "#repeating listtt\n",
        "['s']*3"
      ],
      "metadata": {
        "id": "bsNXvOd_WLMC",
        "outputId": "d403c88c-1d66-47f0-da1f-942ea5b484dc",
        "colab": {
          "base_uri": "https://localhost:8080/"
        }
      },
      "execution_count": null,
      "outputs": [
        {
          "output_type": "execute_result",
          "data": {
            "text/plain": [
              "['s', 's', 's']"
            ]
          },
          "metadata": {},
          "execution_count": 16
        }
      ]
    },
    {
      "cell_type": "code",
      "source": [
        "#inserting ele\n",
        "my_tug=['p','a','r','t','n','e','r']\n",
        "my_tug.insert(4,9)\n",
        "print(my_tug)\n",
        "my_tug[3:3]=[6,7,8]\n",
        "print(my_tug)\n"
      ],
      "metadata": {
        "id": "Yr1IjhyoZN4j",
        "outputId": "30ad0854-1a93-4fee-a70e-b59539c66dc7",
        "colab": {
          "base_uri": "https://localhost:8080/"
        }
      },
      "execution_count": null,
      "outputs": [
        {
          "output_type": "stream",
          "name": "stdout",
          "text": [
            "['p', 'a', 'r', 't', 9, 'n', 'e', 'r']\n",
            "['p', 'a', 'r', 6, 7, 8, 't', 9, 'n', 'e', 'r']\n"
          ]
        }
      ]
    },
    {
      "cell_type": "code",
      "source": [
        "#deleting ele\n",
        "my_tug=['p','a','r','t','n','e','r']\n",
        "del my_tug[3]\n",
        "print(my_tug)\n",
        "del my_tug[3:5]\n",
        "print(my_tug)\n",
        "del my_tug[0:7]\n",
        "print(my_tug)\n",
        "my_tug=['p','a','r','t','n','e','r']\n",
        "my_tug.remove('p')\n",
        "print(my_tug)"
      ],
      "metadata": {
        "colab": {
          "base_uri": "https://localhost:8080/"
        },
        "id": "PcI1z4RBtnhZ",
        "outputId": "03abe896-efa1-4a0b-ed76-371907112302"
      },
      "execution_count": null,
      "outputs": [
        {
          "output_type": "stream",
          "name": "stdout",
          "text": [
            "['p', 'a', 'r', 'n', 'e', 'r']\n",
            "['p', 'a', 'r', 'r']\n",
            "[]\n",
            "['a', 'r', 't', 'n', 'e', 'r']\n"
          ]
        }
      ]
    },
    {
      "cell_type": "code",
      "source": [
        "my_tug=['p','a','r','t','n','e','r']\n",
        "my_tug.pop(4)\n",
        "print(my_tug)"
      ],
      "metadata": {
        "colab": {
          "base_uri": "https://localhost:8080/"
        },
        "id": "nfrdr8voO0Fe",
        "outputId": "3c7d048b-6eb0-46ad-ea3a-f2c07d070d52"
      },
      "execution_count": null,
      "outputs": [
        {
          "output_type": "stream",
          "name": "stdout",
          "text": [
            "['p', 'a', 'r', 't', 'e', 'r']\n"
          ]
        }
      ]
    },
    {
      "cell_type": "code",
      "source": [
        "my_tug=['p','a','r','t','n','e','r']\n",
        "my_tug.clear()\n",
        "print(my_tug)"
      ],
      "metadata": {
        "colab": {
          "base_uri": "https://localhost:8080/"
        },
        "id": "DBZ3OCgqPX9P",
        "outputId": "13142991-393a-48e6-fcee-3584cc321afb"
      },
      "execution_count": null,
      "outputs": [
        {
          "output_type": "stream",
          "name": "stdout",
          "text": [
            "[]\n"
          ]
        }
      ]
    },
    {
      "cell_type": "code",
      "source": [
        "#deleting usng empty list\n",
        "my_tug=['p','a','r','t','n','e','r']\n",
        "my_tug[4:]=[]\n",
        "print(my_tug)\n",
        "my_tug=['p','a','r','t','n','e','r']\n",
        "my_tug[:4]=[]\n",
        "print(my_tug)"
      ],
      "metadata": {
        "colab": {
          "base_uri": "https://localhost:8080/"
        },
        "id": "fXZBaNuYPvbe",
        "outputId": "4fa538ae-a891-47cd-ca2d-a7d335180c5c"
      },
      "execution_count": null,
      "outputs": [
        {
          "output_type": "stream",
          "name": "stdout",
          "text": [
            "['p', 'a', 'r', 't']\n",
            "['n', 'e', 'r']\n"
          ]
        }
      ]
    },
    {
      "cell_type": "code",
      "source": [
        "#iterating ele by using loop\n",
        "for k in (2,4,5,6):\n",
        "  print(k)\n",
        "for j in 'apple':\n",
        "   print(j)"
      ],
      "metadata": {
        "colab": {
          "base_uri": "https://localhost:8080/"
        },
        "id": "fnZiU1nWSROR",
        "outputId": "8190dc93-077a-4617-900c-1ac267b78047"
      },
      "execution_count": null,
      "outputs": [
        {
          "output_type": "stream",
          "name": "stdout",
          "text": [
            "2\n",
            "4\n",
            "5\n",
            "6\n",
            "a\n",
            "p\n",
            "p\n",
            "l\n",
            "e\n"
          ]
        }
      ]
    },
    {
      "cell_type": "code",
      "source": [
        "for l in range(0,11):\n",
        "  print(l)\n"
      ],
      "metadata": {
        "colab": {
          "base_uri": "https://localhost:8080/"
        },
        "id": "jlinVnVGSyzf",
        "outputId": "9df46149-36b3-4d4a-bc42-4ae74f1e3aa3"
      },
      "execution_count": null,
      "outputs": [
        {
          "output_type": "stream",
          "name": "stdout",
          "text": [
            "0\n",
            "1\n",
            "2\n",
            "3\n",
            "4\n",
            "5\n",
            "6\n",
            "7\n",
            "8\n",
            "9\n",
            "10\n"
          ]
        }
      ]
    },
    {
      "cell_type": "code",
      "source": [
        "for k in range(10,2,-2):\n",
        "     print(k)"
      ],
      "metadata": {
        "colab": {
          "base_uri": "https://localhost:8080/"
        },
        "id": "zmvUiMVsTBS5",
        "outputId": "26de6fef-292c-4333-c8d2-eb15eea9d45e"
      },
      "execution_count": null,
      "outputs": [
        {
          "output_type": "stream",
          "name": "stdout",
          "text": [
            "10\n",
            "8\n",
            "6\n",
            "4\n"
          ]
        }
      ]
    },
    {
      "cell_type": "code",
      "source": [
        "for k in range(10,-1,-2):\n",
        "     print(k)"
      ],
      "metadata": {
        "colab": {
          "base_uri": "https://localhost:8080/"
        },
        "id": "X3h13QwNO321",
        "outputId": "24723f02-3c88-47a6-970f-39844dc96bdd"
      },
      "execution_count": null,
      "outputs": [
        {
          "output_type": "stream",
          "name": "stdout",
          "text": [
            "10\n",
            "8\n",
            "6\n",
            "4\n",
            "2\n",
            "0\n"
          ]
        }
      ]
    },
    {
      "cell_type": "code",
      "source": [
        "#finding sum of ele in d listt\n",
        "s=[2,3,4]\n",
        "sum=0\n",
        "for k in s:\n",
        "    sum=sum+k\n",
        "print(sum)"
      ],
      "metadata": {
        "colab": {
          "base_uri": "https://localhost:8080/"
        },
        "id": "aZTnQC3xTaOL",
        "outputId": "585e991e-8853-42e6-ebdb-4420f5c089cd"
      },
      "execution_count": null,
      "outputs": [
        {
          "output_type": "stream",
          "name": "stdout",
          "text": [
            "9\n"
          ]
        }
      ]
    },
    {
      "cell_type": "code",
      "source": [
        "s=[]\n",
        "sum=0\n",
        "size=int(input('enter the num:'))\n",
        "for i in range(0,size):\n",
        "     ent=int(input('enter the num:'))\n",
        "     s.append(ent)\n",
        "     sum=sum+ent\n",
        "print(sum)\n",
        "print(s)"
      ],
      "metadata": {
        "colab": {
          "base_uri": "https://localhost:8080/"
        },
        "id": "MAnEiJaRTw6Z",
        "outputId": "37efde8a-2fe3-458d-a80f-96f1698ed157"
      },
      "execution_count": null,
      "outputs": [
        {
          "output_type": "stream",
          "name": "stdout",
          "text": [
            "enter the num:3\n",
            "enter the num:5\n",
            "5\n",
            "[5]\n",
            "enter the num:4\n",
            "9\n",
            "[5, 4]\n",
            "enter the num:6\n",
            "15\n",
            "[5, 4, 6]\n"
          ]
        }
      ]
    },
    {
      "cell_type": "code",
      "source": [
        "s=eval(input('enter d num:'))\n",
        "l=[]\n",
        "sum=0\n",
        "for i in s:\n",
        "  l.append(i)\n",
        "  sum=sum+i\n",
        "print(l)\n",
        "print(sum)\n",
        "   "
      ],
      "metadata": {
        "colab": {
          "base_uri": "https://localhost:8080/"
        },
        "id": "AT5KJ2rwU9Xt",
        "outputId": "0317db21-d6aa-4818-85b3-7a6e2557bf19"
      },
      "execution_count": null,
      "outputs": [
        {
          "output_type": "stream",
          "name": "stdout",
          "text": [
            "enter d num:1,2,3,4,5\n",
            "[1, 2, 3, 4, 5]\n",
            "15\n"
          ]
        }
      ]
    },
    {
      "cell_type": "code",
      "source": [
        "#finding sum and avg\n",
        "s=[]\n",
        "sum=0\n",
        "size=int(input('enter the num:'))\n",
        "for i in range(0,size):\n",
        "     ent=int(input('enter the num:'))\n",
        "     s.append(ent)\n",
        "     sum=sum+ent\n",
        "     avg=sum/size\n",
        "print(avg)\n",
        "print(sum)\n",
        "print(s)"
      ],
      "metadata": {
        "colab": {
          "base_uri": "https://localhost:8080/"
        },
        "id": "w3jEYUa7ZZRe",
        "outputId": "0a3f1e7c-6dba-4959-9ccd-766d892f19d9"
      },
      "execution_count": null,
      "outputs": [
        {
          "output_type": "stream",
          "name": "stdout",
          "text": [
            "enter the num:3\n",
            "enter the num:5\n",
            "enter the num:4\n",
            "enter the num:6\n",
            "5.0\n",
            "15\n",
            "[5, 4, 6]\n"
          ]
        }
      ]
    },
    {
      "cell_type": "code",
      "source": [
        "s=[]\n",
        "sum=0\n",
        "size=int(input('enter the num:'))\n",
        "for i in range(0,size):\n",
        "     ent=int(input('enter the num:'))\n",
        "     s.append(ent)\n",
        "     sum=sum+ent\n",
        "     avg=sum/len(s)\n",
        "print(avg)\n",
        "print(sum)\n",
        "print(s)"
      ],
      "metadata": {
        "colab": {
          "base_uri": "https://localhost:8080/"
        },
        "id": "2xknmM9maH5W",
        "outputId": "51b5e6fa-1cf9-4d21-ab86-9e490839c74f"
      },
      "execution_count": null,
      "outputs": [
        {
          "output_type": "stream",
          "name": "stdout",
          "text": [
            "enter the num:3\n",
            "enter the num:5\n",
            "enter the num:4\n",
            "enter the num:6\n",
            "5.0\n",
            "15\n",
            "[5, 4, 6]\n"
          ]
        }
      ]
    },
    {
      "cell_type": "code",
      "source": [
        "#entr some integer and store onlyy 1 to 100 in other list\n",
        "l=[]\n",
        "l1=[]\n",
        "size=int(input('d num:'))\n",
        "for i in range(0,size):\n",
        "   l.append(i)\n",
        "print(l)\n",
        "for k in l:\n",
        "   if k>=1 and k<=100:\n",
        "        l1.append(k)\n",
        "print(l1)"
      ],
      "metadata": {
        "colab": {
          "base_uri": "https://localhost:8080/"
        },
        "id": "ho9PTzyzbDW1",
        "outputId": "366e8331-fe48-416b-cfc7-303c059bfcb2"
      },
      "execution_count": null,
      "outputs": [
        {
          "output_type": "stream",
          "name": "stdout",
          "text": [
            "d num:110\n",
            "[0, 1, 2, 3, 4, 5, 6, 7, 8, 9, 10, 11, 12, 13, 14, 15, 16, 17, 18, 19, 20, 21, 22, 23, 24, 25, 26, 27, 28, 29, 30, 31, 32, 33, 34, 35, 36, 37, 38, 39, 40, 41, 42, 43, 44, 45, 46, 47, 48, 49, 50, 51, 52, 53, 54, 55, 56, 57, 58, 59, 60, 61, 62, 63, 64, 65, 66, 67, 68, 69, 70, 71, 72, 73, 74, 75, 76, 77, 78, 79, 80, 81, 82, 83, 84, 85, 86, 87, 88, 89, 90, 91, 92, 93, 94, 95, 96, 97, 98, 99, 100, 101, 102, 103, 104, 105, 106, 107, 108, 109]\n",
            "[1, 2, 3, 4, 5, 6, 7, 8, 9, 10, 11, 12, 13, 14, 15, 16, 17, 18, 19, 20, 21, 22, 23, 24, 25, 26, 27, 28, 29, 30, 31, 32, 33, 34, 35, 36, 37, 38, 39, 40, 41, 42, 43, 44, 45, 46, 47, 48, 49, 50, 51, 52, 53, 54, 55, 56, 57, 58, 59, 60, 61, 62, 63, 64, 65, 66, 67, 68, 69, 70, 71, 72, 73, 74, 75, 76, 77, 78, 79, 80, 81, 82, 83, 84, 85, 86, 87, 88, 89, 90, 91, 92, 93, 94, 95, 96, 97, 98, 99, 100]\n"
          ]
        }
      ]
    },
    {
      "cell_type": "code",
      "source": [
        "s=[]\n",
        "l=eval(input('enter d age:'))\n",
        "for i in l:\n",
        "  s.append(i)\n",
        "  print(s)\n",
        "for i in s:\n",
        "  print(i)\n",
        "for i in range(len(s)):\n",
        "    if s[i]>40 and s[i]<50:\n",
        "     s[i]=\"mid\"\n",
        "for i in s:\n",
        "       print(i)  "
      ],
      "metadata": {
        "colab": {
          "base_uri": "https://localhost:8080/"
        },
        "id": "4saMFItriBlW",
        "outputId": "a9d4e1f6-274a-42d8-def1-0ea898d7afcc"
      },
      "execution_count": null,
      "outputs": [
        {
          "output_type": "stream",
          "name": "stdout",
          "text": [
            "enter d age:44,50,66,54\n",
            "[44]\n",
            "[44, 50]\n",
            "[44, 50, 66]\n",
            "[44, 50, 66, 54]\n",
            "44\n",
            "50\n",
            "66\n",
            "54\n",
            "mid\n",
            "50\n",
            "66\n",
            "54\n"
          ]
        }
      ]
    },
    {
      "cell_type": "code",
      "source": [
        "listt=[2,6,7,8,95]\n",
        "print(listt.index(95))\n",
        "listt.sort()\n",
        "print(listt)\n",
        "print(listt.count(6))\n",
        "listt.reverse()\n",
        "print(listt)"
      ],
      "metadata": {
        "colab": {
          "base_uri": "https://localhost:8080/"
        },
        "id": "HBDkHluup4q2",
        "outputId": "40946251-5716-41f4-eaa3-7216d1867655"
      },
      "execution_count": null,
      "outputs": [
        {
          "output_type": "stream",
          "name": "stdout",
          "text": [
            "4\n",
            "[2, 6, 7, 8, 95]\n",
            "1\n",
            "[95, 8, 7, 6, 2]\n"
          ]
        }
      ]
    },
    {
      "cell_type": "code",
      "source": [
        "#soeting ele\n",
        "cars=['benz','xerrori','innova']\n",
        "cars.sort()\n",
        "print(cars)"
      ],
      "metadata": {
        "colab": {
          "base_uri": "https://localhost:8080/"
        },
        "id": "O2s92iXQsUXR",
        "outputId": "9e55d45c-eee3-45c2-950d-f67375d8cc3a"
      },
      "execution_count": null,
      "outputs": [
        {
          "output_type": "stream",
          "name": "stdout",
          "text": [
            "['benz', 'innova', 'xerrori']\n"
          ]
        }
      ]
    },
    {
      "cell_type": "code",
      "source": [
        "cars=['benz','xerrori','innova']\n",
        "y=sorted(cars,reverse=True)\n",
        "print(y)"
      ],
      "metadata": {
        "colab": {
          "base_uri": "https://localhost:8080/"
        },
        "id": "C6MkzxICsqTj",
        "outputId": "6cf6b26f-9e58-43a4-f328-5121c4e172b0"
      },
      "execution_count": null,
      "outputs": [
        {
          "output_type": "stream",
          "name": "stdout",
          "text": [
            "['xerrori', 'innova', 'benz']\n"
          ]
        }
      ]
    },
    {
      "cell_type": "code",
      "source": [
        "#assigning and copying lists\n",
        "list1=[20,30,40,50]\n",
        "list2=list1\n",
        "list1[3]=4\n",
        "print(list1)\n",
        "print(list2)\n"
      ],
      "metadata": {
        "colab": {
          "base_uri": "https://localhost:8080/"
        },
        "id": "9tw50H3ewgUu",
        "outputId": "adc625b5-79fb-41e4-b6b9-7be1dd7a11fd"
      },
      "execution_count": null,
      "outputs": [
        {
          "output_type": "stream",
          "name": "stdout",
          "text": [
            "[20, 30, 40, 4]\n",
            "[20, 30, 40, 4]\n"
          ]
        }
      ]
    },
    {
      "cell_type": "code",
      "source": [
        "list1=[20,30,40,50]\n",
        "list2=list(list1)\n",
        "list1[3]=4\n",
        "print(list1)\n",
        "print(list2)"
      ],
      "metadata": {
        "colab": {
          "base_uri": "https://localhost:8080/"
        },
        "id": "im09RZhpw6g3",
        "outputId": "45c5aedd-6629-4bf2-99bf-d6c1c4f3a582"
      },
      "execution_count": null,
      "outputs": [
        {
          "output_type": "stream",
          "name": "stdout",
          "text": [
            "[20, 30, 40, 4]\n",
            "[20, 30, 40, 50]\n"
          ]
        }
      ]
    },
    {
      "cell_type": "code",
      "source": [
        "v=[]\n",
        "v1=[]\n",
        "sum=0\n",
        "sum1=0\n",
        "size=int(input('enter d sie:'))\n",
        "size1=int(input('enter d sie:'))\n",
        "for i in range(0,size):\n",
        "      num=int(input('enter d :'))\n",
        "      v.append(num)\n",
        "      sum=sum+num\n",
        "      print(sum)\n",
        "      print(v)\n",
        "for k in range(0,size1):\n",
        "      num1=int(input('enter d :'))\n",
        "      v1.append(num1)\n",
        "      sum1=sum1+num1\n",
        "      print(sum1)\n",
        "      print(v1)\n",
        "if len(v1)==len(v):\n",
        "      print('len z equall')\n",
        "if sum1==sum:\n",
        "      print('d sum z equall')\n",
        "for i in v:\n",
        "   for j in v1:\n",
        "       if i==j:\n",
        "         print('the ele z sme',i)"
      ],
      "metadata": {
        "colab": {
          "base_uri": "https://localhost:8080/"
        },
        "id": "VVbo00M4zVYQ",
        "outputId": "8e8e542b-4c05-484a-edb2-824d541f48aa"
      },
      "execution_count": null,
      "outputs": [
        {
          "output_type": "stream",
          "name": "stdout",
          "text": [
            "enter d sie:3\n",
            "enter d sie:4\n",
            "enter d :1\n",
            "1\n",
            "[1]\n",
            "enter d :2\n",
            "3\n",
            "[1, 2]\n",
            "enter d :3\n",
            "6\n",
            "[1, 2, 3]\n",
            "enter d :5\n",
            "5\n",
            "[5]\n",
            "enter d :2\n",
            "7\n",
            "[5, 2]\n",
            "enter d :8\n",
            "15\n",
            "[5, 2, 8]\n",
            "enter d :7\n",
            "22\n",
            "[5, 2, 8, 7]\n",
            "the ele z sme 2\n"
          ]
        }
      ]
    },
    {
      "cell_type": "code",
      "source": [
        "import random\n",
        "print(random.randint(0,8))"
      ],
      "metadata": {
        "id": "Lhk-I0TXT8II"
      },
      "execution_count": null,
      "outputs": []
    },
    {
      "cell_type": "code",
      "source": [
        "import random\n",
        "print(\"give input 1 to scroll a die if it z prsn 1 chance or give input 2 if it z prsn 2 chance\")\n",
        "count=0\n",
        "count1=0 \n",
        "a=int(input('enter d num:'))\n",
        "if a==1:\n",
        "   die1=print(random.randint(1,6))\n",
        "   print(die1)\n",
        "per=die1\n",
        "count=count+per\n",
        "while die1==1 and die1==6:\n",
        "     die1=print(random.randint(1,6))\n",
        "     per=die1\n",
        "     count=count+per\n",
        "     if die1!=1 and die1!=6:\n",
        "       break\n",
        "\n",
        "\n"
      ],
      "metadata": {
        "colab": {
          "base_uri": "https://localhost:8080/",
          "height": 317
        },
        "id": "-LxcPE8DWL4d",
        "outputId": "9908aae4-5241-490a-a513-d8096daf9be6"
      },
      "execution_count": null,
      "outputs": [
        {
          "output_type": "stream",
          "name": "stdout",
          "text": [
            "give input 1 to scroll a die if it z prsn 1 chance or give input 2 if it z prsn 2 chance\n",
            "enter d num:1\n",
            "2\n",
            "None\n"
          ]
        },
        {
          "output_type": "error",
          "ename": "TypeError",
          "evalue": "ignored",
          "traceback": [
            "\u001b[0;31m---------------------------------------------------------------------------\u001b[0m",
            "\u001b[0;31mTypeError\u001b[0m                                 Traceback (most recent call last)",
            "\u001b[0;32m<ipython-input-6-6730012f6b2d>\u001b[0m in \u001b[0;36m<module>\u001b[0;34m()\u001b[0m\n\u001b[1;32m      8\u001b[0m    \u001b[0mprint\u001b[0m\u001b[0;34m(\u001b[0m\u001b[0mdie1\u001b[0m\u001b[0;34m)\u001b[0m\u001b[0;34m\u001b[0m\u001b[0;34m\u001b[0m\u001b[0m\n\u001b[1;32m      9\u001b[0m \u001b[0mper\u001b[0m\u001b[0;34m=\u001b[0m\u001b[0mdie1\u001b[0m\u001b[0;34m\u001b[0m\u001b[0;34m\u001b[0m\u001b[0m\n\u001b[0;32m---> 10\u001b[0;31m \u001b[0mcount\u001b[0m\u001b[0;34m=\u001b[0m\u001b[0mcount\u001b[0m\u001b[0;34m+\u001b[0m\u001b[0mper\u001b[0m\u001b[0;34m\u001b[0m\u001b[0;34m\u001b[0m\u001b[0m\n\u001b[0m\u001b[1;32m     11\u001b[0m \u001b[0;32mwhile\u001b[0m \u001b[0mdie1\u001b[0m\u001b[0;34m==\u001b[0m\u001b[0;36m1\u001b[0m \u001b[0;32mand\u001b[0m \u001b[0mdie1\u001b[0m\u001b[0;34m==\u001b[0m\u001b[0;36m6\u001b[0m\u001b[0;34m:\u001b[0m\u001b[0;34m\u001b[0m\u001b[0;34m\u001b[0m\u001b[0m\n\u001b[1;32m     12\u001b[0m      \u001b[0mdie1\u001b[0m\u001b[0;34m=\u001b[0m\u001b[0mprint\u001b[0m\u001b[0;34m(\u001b[0m\u001b[0mrandom\u001b[0m\u001b[0;34m.\u001b[0m\u001b[0mrandint\u001b[0m\u001b[0;34m(\u001b[0m\u001b[0;36m1\u001b[0m\u001b[0;34m,\u001b[0m\u001b[0;36m6\u001b[0m\u001b[0;34m)\u001b[0m\u001b[0;34m)\u001b[0m\u001b[0;34m\u001b[0m\u001b[0;34m\u001b[0m\u001b[0m\n",
            "\u001b[0;31mTypeError\u001b[0m: unsupported operand type(s) for +: 'int' and 'NoneType'"
          ]
        }
      ]
    },
    {
      "cell_type": "code",
      "source": [
        "import random\n",
        "you=input(\"'r' is for rockk,'p' is forr paperr,'s'is forr scissors \")\n",
        "per2=random.choice(['p','r','s'])\n",
        "if you==per2:\n",
        "  print(\"tie\")\n",
        "  print('playy oncee againn')\n",
        "else:\n",
        "  print(\"you and per 2 or nottt tie\")\n",
        "if (you=='r' and per2=='s') or (you=='p' and per2=='r') or (you=='s' and per2=='p'):\n",
        "                    print('per 1 wonnn')\n",
        "elif (you==per2):\n",
        "                    print('play once againn')\n",
        "else:\n",
        "                    print('per2 wonn')\n",
        "while(1):\n",
        " if you==per2:\n",
        "                    you=input(\"'r' is for rockk,'p' is forr paperr,'s'is forr scissors \")\n",
        "                    per2=random.choice(['p','r','s'])\n",
        " else:\n",
        "                    break\n",
        "if (you=='r' and per2=='s') or (you=='p' and per2=='r') or (you=='s' and per2=='p'):\n",
        "                    print('per 1 wonnn')  \n",
        "else:\n",
        "                    print('per2 wonn')"
      ],
      "metadata": {
        "colab": {
          "base_uri": "https://localhost:8080/"
        },
        "id": "QNHrkTTMhhz9",
        "outputId": "23abc8ab-4dfe-4183-9aa7-6bd94a50eb79"
      },
      "execution_count": null,
      "outputs": [
        {
          "output_type": "stream",
          "name": "stdout",
          "text": [
            "'r' is for rockk,'p' is forr paperr,'s'is forr scissors r\n",
            "you and per 2 or nottt tie\n",
            "per2 wonn\n",
            "per2 wonn\n"
          ]
        }
      ]
    },
    {
      "cell_type": "code",
      "source": [
        "import random\n",
        "print(\"rock paper and scissor game,play and have funn\")\n",
        "you=input(\"choose what you want:'r' is for rockk,'p' is forr paperr,'s'is forr scissors \")\n",
        "per2=random.choice(['p','r','s'])\n",
        "while(1):\n",
        "        if you==per2:\n",
        "            print('you and the person2 r tie')\n",
        "            print('play once againn')\n",
        "            you=input(\"'r' is for rockk,'p' is forr paperr,'s'is forr scissors \")\n",
        "            per2=random.choice(['p','r','s'])\n",
        "        else:\n",
        "            break\n",
        "if (you=='r' and per2=='s') or (you=='p' and per2=='r') or (you=='s' and per2=='p'):\n",
        "            print('per 1 wonnn') \n",
        "else:\n",
        "            print('per2 wonn')"
      ],
      "metadata": {
        "colab": {
          "base_uri": "https://localhost:8080/"
        },
        "id": "97XPRh6an__l",
        "outputId": "c5db46e5-63a1-4982-f946-ef746080c0cf"
      },
      "execution_count": null,
      "outputs": [
        {
          "output_type": "stream",
          "name": "stdout",
          "text": [
            "rock paper and scissor game,play and have funn\n",
            "choose what you want:'r' is for rockk,'p' is forr paperr,'s'is forr scissors p\n",
            "you and the person2 r tie\n",
            "play once againn\n",
            "'r' is for rockk,'p' is forr paperr,'s'is forr scissors s\n",
            "per2 wonn\n"
          ]
        }
      ]
    },
    {
      "cell_type": "code",
      "source": [
        "#for counting no.of a s\n",
        "v=[]\n",
        "sum=0\n",
        "se=int(input('enter s num:'))\n",
        "for i in range(se):\n",
        "  s=input('enter d nme:')\n",
        "  v.append(s)\n",
        "  print(v)\n",
        "for i in v:\n",
        "  for j in i:\n",
        "      if j=='a':\n",
        "         sum=sum+1\n",
        "         print(sum)"
      ],
      "metadata": {
        "colab": {
          "base_uri": "https://localhost:8080/"
        },
        "id": "wy_7wITHENpY",
        "outputId": "203cd8d5-2634-4c9f-fb58-8e011fc78b51"
      },
      "execution_count": null,
      "outputs": [
        {
          "output_type": "stream",
          "name": "stdout",
          "text": [
            "enter s num:3\n",
            "enter d nme:'shyaam'\n",
            "[\"'shyaam'\"]\n",
            "enter d nme:'nikhiiilaaa'\n",
            "[\"'shyaam'\", \"'nikhiiilaaa'\"]\n",
            "enter d nme:'raaam'\n",
            "[\"'shyaam'\", \"'nikhiiilaaa'\", \"'raaam'\"]\n",
            "1\n",
            "2\n",
            "3\n",
            "4\n",
            "5\n",
            "6\n",
            "7\n",
            "8\n"
          ]
        }
      ]
    },
    {
      "cell_type": "code",
      "source": [
        "#searching for x ele\n",
        "v=[]\n",
        "sum=0\n",
        "se=int(input('enter s num:'))\n",
        "for i in range(se):\n",
        "  s=input('enter d nme:')\n",
        "  v.append(s)\n",
        "  print(v)\n",
        "for i in v:\n",
        "      if i=='x':\n",
        "        print('elementtt fnddd')\n",
        "      else:\n",
        "        print('nott foundd')\n",
        "\n"
      ],
      "metadata": {
        "colab": {
          "base_uri": "https://localhost:8080/"
        },
        "id": "224AAGuTNTk6",
        "outputId": "de6ab67f-d4c1-4b3e-9e4e-bf87c0a6d5e6"
      },
      "execution_count": null,
      "outputs": [
        {
          "output_type": "stream",
          "name": "stdout",
          "text": [
            "enter s num:3\n",
            "enter d nme:'a'\n",
            "[\"'a'\"]\n",
            "enter d nme:'n'\n",
            "[\"'a'\", \"'n'\"]\n",
            "enter d nme:'t'\n",
            "[\"'a'\", \"'n'\", \"'t'\"]\n",
            "nott foundd\n",
            "nott foundd\n",
            "nott foundd\n"
          ]
        }
      ]
    },
    {
      "cell_type": "code",
      "source": [
        "s=[]\n",
        "while(1):\n",
        "  p=input(\"enter d nme:\")\n",
        "  if p!='AAA':\n",
        "    s.append(p)\n",
        "  else:\n",
        "    break\n",
        "  print(s)\n",
        "v=sorted(s)\n",
        "print(v)"
      ],
      "metadata": {
        "colab": {
          "base_uri": "https://localhost:8080/"
        },
        "id": "PL-eTwN4NzBo",
        "outputId": "c39c499d-7612-41c6-c302-94772e7420b4"
      },
      "execution_count": null,
      "outputs": [
        {
          "name": "stdout",
          "output_type": "stream",
          "text": [
            "enter d nme:\"asss\"\n",
            "['\"asss\"']\n",
            "['\"asss\"']\n",
            "enter d nme:\"ammm\"\n",
            "['\"asss\"', '\"ammm\"']\n",
            "['\"ammm\"', '\"asss\"']\n",
            "enter d nme:\"alllll\"\n",
            "['\"asss\"', '\"ammm\"', '\"alllll\"']\n",
            "['\"alllll\"', '\"ammm\"', '\"asss\"']\n",
            "enter d nme:AAA\n"
          ]
        }
      ]
    },
    {
      "cell_type": "code",
      "source": [
        "[x*x for x in range(1,10) if x%2==1]"
      ],
      "metadata": {
        "id": "6zxM02pzPtkH",
        "colab": {
          "base_uri": "https://localhost:8080/"
        },
        "outputId": "45c88ad4-8d66-4073-c68f-aff5a3eaa9ae"
      },
      "execution_count": null,
      "outputs": [
        {
          "output_type": "execute_result",
          "data": {
            "text/plain": [
              "[1, 9, 25, 49, 81]"
            ]
          },
          "metadata": {},
          "execution_count": 19
        }
      ]
    },
    {
      "cell_type": "code",
      "source": [
        "y=[-1,2,3,4,1,-19]\n",
        "[x for x in y if x>0]\n"
      ],
      "metadata": {
        "colab": {
          "base_uri": "https://localhost:8080/"
        },
        "id": "73p_SSTKW_YT",
        "outputId": "c15dcac0-b774-4ab7-d9cc-0d9f9b183ba2"
      },
      "execution_count": null,
      "outputs": [
        {
          "output_type": "execute_result",
          "data": {
            "text/plain": [
              "[2, 3, 4, 1]"
            ]
          },
          "metadata": {},
          "execution_count": 18
        }
      ]
    },
    {
      "cell_type": "code",
      "source": [
        "[x**2 for x in range(0,5)]"
      ],
      "metadata": {
        "colab": {
          "base_uri": "https://localhost:8080/"
        },
        "id": "IuulIZXHW8Sb",
        "outputId": "597b698f-cc8e-477c-bed4-253b9ae4e46a"
      },
      "execution_count": null,
      "outputs": [
        {
          "output_type": "execute_result",
          "data": {
            "text/plain": [
              "[0, 1, 4, 9, 16]"
            ]
          },
          "metadata": {},
          "execution_count": 17
        }
      ]
    },
    {
      "cell_type": "code",
      "source": [
        "[ord(x) for x in 'hello']"
      ],
      "metadata": {
        "colab": {
          "base_uri": "https://localhost:8080/"
        },
        "id": "e5kaiqxwXwXL",
        "outputId": "f6278de3-d67c-468f-895e-4a4ca4e5bd29"
      },
      "execution_count": null,
      "outputs": [
        {
          "output_type": "execute_result",
          "data": {
            "text/plain": [
              "[104, 101, 108, 108, 111]"
            ]
          },
          "metadata": {},
          "execution_count": 20
        }
      ]
    },
    {
      "cell_type": "code",
      "source": [
        "v='sreya'\n",
        "h='a','e','i','o','u'\n",
        "[x for x in v if x in h]"
      ],
      "metadata": {
        "colab": {
          "base_uri": "https://localhost:8080/"
        },
        "id": "XTwt9MDqYKZc",
        "outputId": "5b764349-795d-435f-ea81-992712ca4cad"
      },
      "execution_count": null,
      "outputs": [
        {
          "output_type": "execute_result",
          "data": {
            "text/plain": [
              "['e', 'a']"
            ]
          },
          "metadata": {},
          "execution_count": 21
        }
      ]
    },
    {
      "cell_type": "code",
      "source": [
        "s=[]\n",
        "while(1):\n",
        "  x=int(input('enter d num:'))\n",
        "  if x!=000:\n",
        "    s.append(x)\n",
        "  else:\n",
        "    break\n",
        "square=[x**2 for x in s]\n",
        "print(square)\n",
        "pos=[x for x in s if x>0]\n",
        "print(pos)\n",
        "\n"
      ],
      "metadata": {
        "colab": {
          "base_uri": "https://localhost:8080/"
        },
        "id": "wRtf4aPtYnFw",
        "outputId": "05e6a1d8-282b-4c31-c9e2-2724c1eda553"
      },
      "execution_count": null,
      "outputs": [
        {
          "output_type": "stream",
          "name": "stdout",
          "text": [
            "enter d num:1\n",
            "enter d num:3\n",
            "enter d num:-2\n",
            "enter d num:-6\n",
            "enter d num:000\n",
            "[1, 9, 4, 36]\n",
            "[1, 3]\n"
          ]
        }
      ]
    },
    {
      "cell_type": "code",
      "source": [
        "s=[]\n",
        "while(1):\n",
        "  x=int(input('enter d num:'))\n",
        "  if x!=000:\n",
        "    s.append(x)\n",
        "  else:\n",
        "    break\n",
        "even=[x for x in s if x%2==0]\n",
        "print(even)\n",
        "odd=[x for x in s if x%2!=0]\n",
        "print(odd)"
      ],
      "metadata": {
        "colab": {
          "base_uri": "https://localhost:8080/"
        },
        "id": "nphQlpGzbB5F",
        "outputId": "648c77ff-4529-4755-fded-b8976be22f87"
      },
      "execution_count": null,
      "outputs": [
        {
          "output_type": "stream",
          "name": "stdout",
          "text": [
            "enter d num:13\n",
            "enter d num:1\n",
            "enter d num:2\n",
            "enter d num:68\n",
            "enter d num:000\n",
            "[2, 68]\n",
            "[13, 1]\n"
          ]
        }
      ]
    },
    {
      "cell_type": "code",
      "source": [
        "clas=[[11,12,13],[1,2,3]]\n",
        "sum=0\n",
        "for i in clas[0]:\n",
        "   sum=sum+i\n",
        "print(sum)\n",
        "avg=sum/len(clas[0])\n",
        "print(avg)"
      ],
      "metadata": {
        "colab": {
          "base_uri": "https://localhost:8080/"
        },
        "id": "z1h7oU0Zbelj",
        "outputId": "2d4900dc-de2a-4857-95f4-7757f75d5cfc"
      },
      "execution_count": null,
      "outputs": [
        {
          "output_type": "stream",
          "name": "stdout",
          "text": [
            "36\n",
            "12.0\n"
          ]
        }
      ]
    },
    {
      "cell_type": "code",
      "source": [
        "#doubtttt\n",
        "clas=[[11,12,13],[1,2,3]]\n",
        "for x in range(0,2):\n",
        "  sum=0\n",
        "  for i in range(0,len(clas)):\n",
        "     sum=sum+clas[i][x]\n",
        "     print(sum)"
      ],
      "metadata": {
        "colab": {
          "base_uri": "https://localhost:8080/"
        },
        "id": "ufyoy5OGe89z",
        "outputId": "a1863f96-2115-4586-c441-7881d496c3c0"
      },
      "execution_count": null,
      "outputs": [
        {
          "output_type": "stream",
          "name": "stdout",
          "text": [
            "11\n",
            "12\n",
            "12\n",
            "14\n"
          ]
        }
      ]
    },
    {
      "cell_type": "code",
      "source": [
        "a=eval(input('enter d ele:'))\n",
        "b=eval(input('enter d ele:'))\n",
        "sum=[[a[i][j]+b[i][j] for j in range(a[0])]for i in range(a)]\n",
        "print(sum)"
      ],
      "metadata": {
        "colab": {
          "base_uri": "https://localhost:8080/",
          "height": 252
        },
        "id": "4hf2IqZ6wd4K",
        "outputId": "e484c627-00e5-4c60-8a36-402b2ceb88d4"
      },
      "execution_count": null,
      "outputs": [
        {
          "name": "stdout",
          "output_type": "stream",
          "text": [
            "enter d ele:1,2\n",
            "enter d ele:3,4\n"
          ]
        },
        {
          "output_type": "error",
          "ename": "TypeError",
          "evalue": "ignored",
          "traceback": [
            "\u001b[0;31m---------------------------------------------------------------------------\u001b[0m",
            "\u001b[0;31mTypeError\u001b[0m                                 Traceback (most recent call last)",
            "\u001b[0;32m<ipython-input-58-0c53269e6780>\u001b[0m in \u001b[0;36m<module>\u001b[0;34m()\u001b[0m\n\u001b[1;32m      1\u001b[0m \u001b[0ma\u001b[0m\u001b[0;34m=\u001b[0m\u001b[0meval\u001b[0m\u001b[0;34m(\u001b[0m\u001b[0minput\u001b[0m\u001b[0;34m(\u001b[0m\u001b[0;34m'enter d ele:'\u001b[0m\u001b[0;34m)\u001b[0m\u001b[0;34m)\u001b[0m\u001b[0;34m\u001b[0m\u001b[0;34m\u001b[0m\u001b[0m\n\u001b[1;32m      2\u001b[0m \u001b[0mb\u001b[0m\u001b[0;34m=\u001b[0m\u001b[0meval\u001b[0m\u001b[0;34m(\u001b[0m\u001b[0minput\u001b[0m\u001b[0;34m(\u001b[0m\u001b[0;34m'enter d ele:'\u001b[0m\u001b[0;34m)\u001b[0m\u001b[0;34m)\u001b[0m\u001b[0;34m\u001b[0m\u001b[0;34m\u001b[0m\u001b[0m\n\u001b[0;32m----> 3\u001b[0;31m \u001b[0msum\u001b[0m\u001b[0;34m=\u001b[0m\u001b[0;34m[\u001b[0m\u001b[0;34m[\u001b[0m\u001b[0ma\u001b[0m\u001b[0;34m[\u001b[0m\u001b[0mi\u001b[0m\u001b[0;34m]\u001b[0m\u001b[0;34m[\u001b[0m\u001b[0mj\u001b[0m\u001b[0;34m]\u001b[0m\u001b[0;34m+\u001b[0m\u001b[0mb\u001b[0m\u001b[0;34m[\u001b[0m\u001b[0mi\u001b[0m\u001b[0;34m]\u001b[0m\u001b[0;34m[\u001b[0m\u001b[0mj\u001b[0m\u001b[0;34m]\u001b[0m \u001b[0;32mfor\u001b[0m \u001b[0mj\u001b[0m \u001b[0;32min\u001b[0m \u001b[0mrange\u001b[0m\u001b[0;34m(\u001b[0m\u001b[0ma\u001b[0m\u001b[0;34m[\u001b[0m\u001b[0;36m0\u001b[0m\u001b[0;34m]\u001b[0m\u001b[0;34m)\u001b[0m\u001b[0;34m]\u001b[0m\u001b[0;32mfor\u001b[0m \u001b[0mi\u001b[0m \u001b[0;32min\u001b[0m \u001b[0mrange\u001b[0m\u001b[0;34m(\u001b[0m\u001b[0ma\u001b[0m\u001b[0;34m)\u001b[0m\u001b[0;34m]\u001b[0m\u001b[0;34m\u001b[0m\u001b[0;34m\u001b[0m\u001b[0m\n\u001b[0m\u001b[1;32m      4\u001b[0m \u001b[0mprint\u001b[0m\u001b[0;34m(\u001b[0m\u001b[0msum\u001b[0m\u001b[0;34m)\u001b[0m\u001b[0;34m\u001b[0m\u001b[0;34m\u001b[0m\u001b[0m\n",
            "\u001b[0;31mTypeError\u001b[0m: 'tuple' object cannot be interpreted as an integer"
          ]
        }
      ]
    },
    {
      "cell_type": "code",
      "source": [
        "t=10,\n",
        "print(t)\n",
        "print(type(t))"
      ],
      "metadata": {
        "colab": {
          "base_uri": "https://localhost:8080/"
        },
        "id": "Tk0eUxFSxWaq",
        "outputId": "ab1158be-e454-4fe1-cc71-46859d3f1c19"
      },
      "execution_count": null,
      "outputs": [
        {
          "output_type": "stream",
          "name": "stdout",
          "text": [
            "(10,)\n",
            "<class 'tuple'>\n"
          ]
        }
      ]
    },
    {
      "cell_type": "code",
      "source": [
        "t=(10,)\n",
        "print(t)\n",
        "print(type(t))\n"
      ],
      "metadata": {
        "colab": {
          "base_uri": "https://localhost:8080/"
        },
        "id": "VJOIeAXYxiZN",
        "outputId": "fc577ebc-bd7f-456a-da5b-4958bd7df4ba"
      },
      "execution_count": null,
      "outputs": [
        {
          "output_type": "stream",
          "name": "stdout",
          "text": [
            "(10,)\n",
            "<class 'tuple'>\n"
          ]
        }
      ]
    },
    {
      "cell_type": "code",
      "source": [
        "#creating a tuple frm d list\n",
        "t=[1,2,3]\n",
        "v=tuple(t)\n",
        "print(v)"
      ],
      "metadata": {
        "colab": {
          "base_uri": "https://localhost:8080/"
        },
        "id": "zjzxks4pyZ0k",
        "outputId": "17cd99b9-d010-401d-a386-562d7bd0793b"
      },
      "execution_count": null,
      "outputs": [
        {
          "output_type": "stream",
          "name": "stdout",
          "text": [
            "(1, 2, 3)\n"
          ]
        }
      ]
    },
    {
      "cell_type": "code",
      "source": [
        "tp=tuple(range(4,9,2))\n",
        "print(tp)"
      ],
      "metadata": {
        "colab": {
          "base_uri": "https://localhost:8080/"
        },
        "id": "Zzg3q4FiyZ35",
        "outputId": "ccb6a69b-e13d-406d-e2ae-4304bf701d03"
      },
      "execution_count": null,
      "outputs": [
        {
          "output_type": "stream",
          "name": "stdout",
          "text": [
            "(4, 6, 8)\n"
          ]
        }
      ]
    },
    {
      "cell_type": "code",
      "source": [
        "tp=('p','e','r','m','i','t')\n",
        "print(tp[0])\n",
        "print(tp[3.0])"
      ],
      "metadata": {
        "colab": {
          "base_uri": "https://localhost:8080/",
          "height": 217
        },
        "id": "42CQCykw00YJ",
        "outputId": "f29aafe6-90c2-437d-eab4-ca3514fe850f"
      },
      "execution_count": null,
      "outputs": [
        {
          "output_type": "stream",
          "name": "stdout",
          "text": [
            "p\n"
          ]
        },
        {
          "output_type": "error",
          "ename": "TypeError",
          "evalue": "ignored",
          "traceback": [
            "\u001b[0;31m---------------------------------------------------------------------------\u001b[0m",
            "\u001b[0;31mTypeError\u001b[0m                                 Traceback (most recent call last)",
            "\u001b[0;32m<ipython-input-10-5f7ad88f6bee>\u001b[0m in \u001b[0;36m<module>\u001b[0;34m()\u001b[0m\n\u001b[1;32m      1\u001b[0m \u001b[0mtp\u001b[0m\u001b[0;34m=\u001b[0m\u001b[0;34m(\u001b[0m\u001b[0;34m'p'\u001b[0m\u001b[0;34m,\u001b[0m\u001b[0;34m'e'\u001b[0m\u001b[0;34m,\u001b[0m\u001b[0;34m'r'\u001b[0m\u001b[0;34m,\u001b[0m\u001b[0;34m'm'\u001b[0m\u001b[0;34m,\u001b[0m\u001b[0;34m'i'\u001b[0m\u001b[0;34m,\u001b[0m\u001b[0;34m't'\u001b[0m\u001b[0;34m)\u001b[0m\u001b[0;34m\u001b[0m\u001b[0;34m\u001b[0m\u001b[0m\n\u001b[1;32m      2\u001b[0m \u001b[0mprint\u001b[0m\u001b[0;34m(\u001b[0m\u001b[0mtp\u001b[0m\u001b[0;34m[\u001b[0m\u001b[0;36m0\u001b[0m\u001b[0;34m]\u001b[0m\u001b[0;34m)\u001b[0m\u001b[0;34m\u001b[0m\u001b[0;34m\u001b[0m\u001b[0m\n\u001b[0;32m----> 3\u001b[0;31m \u001b[0mprint\u001b[0m\u001b[0;34m(\u001b[0m\u001b[0mtp\u001b[0m\u001b[0;34m[\u001b[0m\u001b[0;36m3.0\u001b[0m\u001b[0;34m]\u001b[0m\u001b[0;34m)\u001b[0m\u001b[0;34m\u001b[0m\u001b[0;34m\u001b[0m\u001b[0m\n\u001b[0m",
            "\u001b[0;31mTypeError\u001b[0m: tuple indices must be integers or slices, not float"
          ]
        }
      ]
    },
    {
      "cell_type": "code",
      "source": [
        "tp=('mouse',[2,3,4],'hyyyy')\n",
        "print(tp[1][0])\n",
        "print(type(tp))"
      ],
      "metadata": {
        "colab": {
          "base_uri": "https://localhost:8080/"
        },
        "id": "yARfKtnL1Hqb",
        "outputId": "30d2d76d-e7d6-4516-eae4-09484dfbc390"
      },
      "execution_count": null,
      "outputs": [
        {
          "output_type": "stream",
          "name": "stdout",
          "text": [
            "2\n",
            "<class 'tuple'>\n"
          ]
        }
      ]
    },
    {
      "cell_type": "code",
      "source": [
        "tp=('mouse',[2,3,4],'hyyyy')\n",
        "print(tp[-2])"
      ],
      "metadata": {
        "colab": {
          "base_uri": "https://localhost:8080/"
        },
        "id": "gWTdFXWU1fQ6",
        "outputId": "5ad8fa42-f85e-4a65-d396-c09f495306db"
      },
      "execution_count": null,
      "outputs": [
        {
          "output_type": "stream",
          "name": "stdout",
          "text": [
            "[2, 3, 4]\n"
          ]
        }
      ]
    },
    {
      "cell_type": "code",
      "source": [
        "tp=('p','i','n','k','y','y')\n",
        "print(tp[4:])\n",
        "print(tp[::2])\n",
        "print(tp[:4])"
      ],
      "metadata": {
        "colab": {
          "base_uri": "https://localhost:8080/"
        },
        "id": "dnQv4OOE1jqO",
        "outputId": "622aa3e1-b159-4e68-80c3-19059aa4342b"
      },
      "execution_count": null,
      "outputs": [
        {
          "output_type": "stream",
          "name": "stdout",
          "text": [
            "('y', 'y')\n",
            "('p', 'n', 'y')\n",
            "('p', 'i', 'n', 'k')\n"
          ]
        }
      ]
    },
    {
      "cell_type": "code",
      "source": [
        "tp=('p','i','n','k','y','y')\n",
        "del tp\n",
        "print(tp)"
      ],
      "metadata": {
        "colab": {
          "base_uri": "https://localhost:8080/",
          "height": 200
        },
        "id": "v3-xE1UA9t6_",
        "outputId": "5470e4fe-7b05-49fd-8adf-160f90ece181"
      },
      "execution_count": null,
      "outputs": [
        {
          "output_type": "error",
          "ename": "NameError",
          "evalue": "ignored",
          "traceback": [
            "\u001b[0;31m---------------------------------------------------------------------------\u001b[0m",
            "\u001b[0;31mNameError\u001b[0m                                 Traceback (most recent call last)",
            "\u001b[0;32m<ipython-input-17-884d286e0bf8>\u001b[0m in \u001b[0;36m<module>\u001b[0;34m()\u001b[0m\n\u001b[1;32m      1\u001b[0m \u001b[0mtp\u001b[0m\u001b[0;34m=\u001b[0m\u001b[0;34m(\u001b[0m\u001b[0;34m'p'\u001b[0m\u001b[0;34m,\u001b[0m\u001b[0;34m'i'\u001b[0m\u001b[0;34m,\u001b[0m\u001b[0;34m'n'\u001b[0m\u001b[0;34m,\u001b[0m\u001b[0;34m'k'\u001b[0m\u001b[0;34m,\u001b[0m\u001b[0;34m'y'\u001b[0m\u001b[0;34m,\u001b[0m\u001b[0;34m'y'\u001b[0m\u001b[0;34m)\u001b[0m\u001b[0;34m\u001b[0m\u001b[0;34m\u001b[0m\u001b[0m\n\u001b[1;32m      2\u001b[0m \u001b[0;32mdel\u001b[0m \u001b[0mtp\u001b[0m\u001b[0;34m\u001b[0m\u001b[0;34m\u001b[0m\u001b[0m\n\u001b[0;32m----> 3\u001b[0;31m \u001b[0mprint\u001b[0m\u001b[0;34m(\u001b[0m\u001b[0mtp\u001b[0m\u001b[0;34m)\u001b[0m\u001b[0;34m\u001b[0m\u001b[0;34m\u001b[0m\u001b[0m\n\u001b[0m",
            "\u001b[0;31mNameError\u001b[0m: name 'tp' is not defined"
          ]
        }
      ]
    },
    {
      "cell_type": "code",
      "source": [
        "tp=('p','i','n','k','y','y')\n",
        "'a' not in tp\n",
        "'y' in tp"
      ],
      "metadata": {
        "colab": {
          "base_uri": "https://localhost:8080/"
        },
        "id": "QajpY833IB-4",
        "outputId": "f726b43e-95b4-4e80-e7c8-834ad244e475"
      },
      "execution_count": null,
      "outputs": [
        {
          "output_type": "execute_result",
          "data": {
            "text/plain": [
              "True"
            ]
          },
          "metadata": {},
          "execution_count": 21
        }
      ]
    },
    {
      "cell_type": "code",
      "source": [
        "s=eval(input('enter d ele()'))\n",
        "print(s)"
      ],
      "metadata": {
        "colab": {
          "base_uri": "https://localhost:8080/"
        },
        "id": "q6zaaU0iI0O-",
        "outputId": "1abd483e-94e9-4b5b-9a4c-cd0753808d04"
      },
      "execution_count": null,
      "outputs": [
        {
          "output_type": "stream",
          "name": "stdout",
          "text": [
            "enter d ele()(2,3,4,5)\n",
            "(2, 3, 4, 5)\n"
          ]
        }
      ]
    },
    {
      "cell_type": "code",
      "source": [
        "sum=0\n",
        "s=eval(input('enter d ele()'))\n",
        "print(s)\n",
        "for i in s:\n",
        "     sum=sum+i\n",
        "     print(sum)\n",
        "avg=sum/len(s)\n",
        "print(avg)\n",
        "print(max(s))\n",
        "print(min(s))"
      ],
      "metadata": {
        "colab": {
          "base_uri": "https://localhost:8080/"
        },
        "id": "tQWrs969JDOm",
        "outputId": "8940d8d5-f9a7-4ef8-c277-eca712cb2273"
      },
      "execution_count": null,
      "outputs": [
        {
          "output_type": "stream",
          "name": "stdout",
          "text": [
            "enter d ele()(3,9,6,8)\n",
            "(3, 9, 6, 8)\n",
            "3\n",
            "12\n",
            "18\n",
            "26\n",
            "6.5\n",
            "9\n",
            "3\n"
          ]
        }
      ]
    },
    {
      "cell_type": "code",
      "source": [
        "tp='sreyaa',99,98,99\n",
        "nme,m1,m2,m3=tp\n",
        "print(nme,'hve been scored',m1+m2+m3)\n",
        "print(nme,'hve been scored',m1,m2,m3)"
      ],
      "metadata": {
        "colab": {
          "base_uri": "https://localhost:8080/"
        },
        "id": "rsElCUSANpvd",
        "outputId": "d71ab9a7-4f53-4ef6-9d66-48e4ae644a20"
      },
      "execution_count": null,
      "outputs": [
        {
          "output_type": "stream",
          "name": "stdout",
          "text": [
            "sreyaa hve been scored 296\n",
            "sreyaa hve been scored 99 98 99\n"
          ]
        }
      ]
    },
    {
      "cell_type": "code",
      "source": [
        "#adding ele\n",
        "tp=(3,4,5,6,7)\n",
        "tp=tp+(9,)\n",
        "print(tp)\n",
        "tp=(3,4,5,6,7)\n",
        "tp=tp[:2]+(4,5,6)+tp[2:]\n",
        "print(tp)\n",
        "tp=(3,4,5,6,7)\n",
        "tp=tp[2:]+(4,5,6)+tp[2:]\n",
        "print(tp)\n",
        "tp=(3,4,5,6,7)\n",
        "tp=list(tp)\n",
        "tp.append(18)\n",
        "tp=tuple(tp)\n",
        "print(tp)"
      ],
      "metadata": {
        "colab": {
          "base_uri": "https://localhost:8080/"
        },
        "id": "DEkPcs9fPVXY",
        "outputId": "98aee3fe-3021-407d-a397-bc2b04934b06"
      },
      "execution_count": null,
      "outputs": [
        {
          "output_type": "stream",
          "name": "stdout",
          "text": [
            "(3, 4, 5, 6, 7, 9)\n",
            "(3, 4, 4, 5, 6, 5, 6, 7)\n",
            "(5, 6, 7, 4, 5, 6, 5, 6, 7)\n",
            "(3, 4, 5, 6, 7, 18)\n"
          ]
        }
      ]
    },
    {
      "cell_type": "code",
      "source": [
        "#converting tup to string\n",
        "tp=('p','i','n','k','y','y')\n",
        "st=\".join(tp)\"\n",
        "print(type(st))\n"
      ],
      "metadata": {
        "colab": {
          "base_uri": "https://localhost:8080/"
        },
        "id": "Rc9Zoy3AR9E7",
        "outputId": "df9b5080-e7b1-4101-c25a-bc45bee3c82d"
      },
      "execution_count": null,
      "outputs": [
        {
          "output_type": "stream",
          "name": "stdout",
          "text": [
            "<class 'str'>\n"
          ]
        }
      ]
    },
    {
      "cell_type": "code",
      "source": [
        "#removingg elee\n",
        "t=(1,2,3,4,5,6,7)\n",
        "t=t[:3]+t[5:]\n",
        "print(t)"
      ],
      "metadata": {
        "colab": {
          "base_uri": "https://localhost:8080/"
        },
        "id": "s16K4mMcSn8B",
        "outputId": "aad252bd-172b-4c3f-be98-35dd6a1cd1b8"
      },
      "execution_count": null,
      "outputs": [
        {
          "output_type": "stream",
          "name": "stdout",
          "text": [
            "(1, 2, 3, 6, 7)\n"
          ]
        }
      ]
    },
    {
      "cell_type": "code",
      "source": [
        "t=(1,2,3,4,5,6,7)\n",
        "t=list(t)\n",
        "t.remove(3)\n",
        "t=tuple(t)\n",
        "print(t)"
      ],
      "metadata": {
        "colab": {
          "base_uri": "https://localhost:8080/"
        },
        "id": "XNYRpZsITQr1",
        "outputId": "9c74d71e-5ea9-44bb-fce0-0ee01bc9c69f"
      },
      "execution_count": null,
      "outputs": [
        {
          "output_type": "stream",
          "name": "stdout",
          "text": [
            "(1, 2, 4, 5, 6, 7)\n"
          ]
        }
      ]
    },
    {
      "cell_type": "code",
      "source": [
        "import operator\n",
        "srted=[]\n",
        "sf=[]\n",
        "sfd=[]\n",
        "s=eval(input('enter d ele()'))\n",
        "print(s)\n",
        "s=list(s)\n",
        "print(s)\n",
        "srted=sorted(s)\n",
        "print(srted)\n",
        "sf=sorted(s,key=operator.itemgetter(1))\n",
        "print(sf)\n",
        "sfd=sorted(s,key=operator.itemgetter(1),reverse=True)\n",
        "print(sfd)"
      ],
      "metadata": {
        "colab": {
          "base_uri": "https://localhost:8080/"
        },
        "id": "hgqFLzZ9Tyfn",
        "outputId": "81d01a84-58e6-4575-b668-d3002ed176fc"
      },
      "execution_count": null,
      "outputs": [
        {
          "output_type": "stream",
          "name": "stdout",
          "text": [
            "enter d ele()(('mangoooo',66),('banana',55),('cherryyyy',67))\n",
            "(('mangoooo', 66), ('banana', 55), ('cherryyyy', 67))\n",
            "[('mangoooo', 66), ('banana', 55), ('cherryyyy', 67)]\n",
            "[('banana', 55), ('cherryyyy', 67), ('mangoooo', 66)]\n",
            "[('banana', 55), ('mangoooo', 66), ('cherryyyy', 67)]\n",
            "[('cherryyyy', 67), ('mangoooo', 66), ('banana', 55)]\n"
          ]
        }
      ]
    },
    {
      "cell_type": "code",
      "source": [
        "t=()\n",
        "t=eval(input('enter d valuee;'))\n",
        "print(t)"
      ],
      "metadata": {
        "colab": {
          "base_uri": "https://localhost:8080/"
        },
        "id": "ZeVmGWC_UR4z",
        "outputId": "269dfdbf-c9eb-4967-99cb-8ff34bcf162f"
      },
      "execution_count": null,
      "outputs": [
        {
          "output_type": "stream",
          "name": "stdout",
          "text": [
            "enter d valuee;(2,3,4,5)\n",
            "(2, 3, 4, 5)\n"
          ]
        }
      ]
    },
    {
      "cell_type": "code",
      "source": [
        "t=[]\n",
        "while(1):\n",
        "  s=int(input('enter d age:'))\n",
        "  if s<0:\n",
        "    break\n",
        "  else:\n",
        "      t.append(s)\n",
        "t=tuple(t)\n",
        "print(t)"
      ],
      "metadata": {
        "colab": {
          "base_uri": "https://localhost:8080/"
        },
        "id": "iPRR_j8pZGze",
        "outputId": "ee8da800-5750-43cb-9850-f568235aff4a"
      },
      "execution_count": null,
      "outputs": [
        {
          "output_type": "stream",
          "name": "stdout",
          "text": [
            "enter d age:44\n",
            "enter d age:55\n",
            "enter d age:66\n",
            "enter d age:-5\n",
            "(44, 55, 66)\n"
          ]
        }
      ]
    },
    {
      "cell_type": "markdown",
      "source": [
        "#dictt"
      ],
      "metadata": {
        "id": "vYNTN_f1pln2"
      }
    },
    {
      "cell_type": "code",
      "source": [
        "t=[23,45,67,78,56,77,34]\n",
        "day=input('give any frm -sun,mom,tue,wed,thur,fri,sat:')\n",
        "if day=='sun':\n",
        "  dynme='sunday'\n",
        "  temp=t[0]\n",
        "elif day=='mon':\n",
        "  dynme='monday'\n",
        "  temp=t[1]\n",
        "elif day=='tue':\n",
        "  dynme='tuesday'\n",
        "  temp=t[2]\n",
        "elif day=='wed':\n",
        "  dynme='wednesday'\n",
        "  temp=t[3]\n",
        "elif day=='thur':\n",
        "  dynme='thursday'\n",
        "  temp=t[4]\n",
        "elif day=='fri':\n",
        "  dynme='friday'\n",
        "  temp=t[5]\n",
        "elif day=='sat':\n",
        "  dynme='saturday'\n",
        "  temp=t[6]\n",
        "else:\n",
        "  print('nott validdd')\n",
        "print('the avg temp of {} is {}'.format(dynme,temp))"
      ],
      "metadata": {
        "colab": {
          "base_uri": "https://localhost:8080/"
        },
        "id": "ceyE4yoWpk4b",
        "outputId": "f83e6a92-5e6c-466e-bbd4-9149130161fe"
      },
      "execution_count": null,
      "outputs": [
        {
          "output_type": "stream",
          "name": "stdout",
          "text": [
            "give any frm -sun,mom,tue,wed,thur,fri,sat:'sat'\n",
            "nott validdd\n",
            "the avg temp of {} is {}\n"
          ]
        }
      ]
    },
    {
      "cell_type": "markdown",
      "source": [
        "#mod 3\n",
        "functions"
      ],
      "metadata": {
        "id": "lBnkELpNMLbG"
      }
    },
    {
      "cell_type": "code",
      "source": [
        "def avg(n1,n2,n3):\n",
        "    return (n1+n2+n3)/3\n",
        "result=avg(10,20,30)\n",
        "print(result)"
      ],
      "metadata": {
        "colab": {
          "base_uri": "https://localhost:8080/"
        },
        "id": "G2lqzeibMKxd",
        "outputId": "a950a389-ea2e-48eb-9a3f-91279d568390"
      },
      "execution_count": null,
      "outputs": [
        {
          "output_type": "stream",
          "name": "stdout",
          "text": [
            "20.0\n"
          ]
        }
      ]
    },
    {
      "cell_type": "code",
      "source": [
        "def displayhello():\n",
        "   print('hello world')\n",
        "displayhello()\n",
        "   \n"
      ],
      "metadata": {
        "colab": {
          "base_uri": "https://localhost:8080/"
        },
        "id": "QlZsr3b3M2n0",
        "outputId": "4777ec9f-d8a5-4712-fb68-05e5d5cbe622"
      },
      "execution_count": null,
      "outputs": [
        {
          "output_type": "stream",
          "name": "stdout",
          "text": [
            "hello world\n"
          ]
        }
      ]
    },
    {
      "cell_type": "markdown",
      "source": [
        "#returning multiple values"
      ],
      "metadata": {
        "id": "Q-ApdwXg_8ES"
      }
    },
    {
      "cell_type": "code",
      "source": [
        "def maxmin(numlist):\n",
        "  return max(numlist),min(numlist)\n",
        "marks=[1,5,7,8]\n",
        "hl=maxmin(marks)\n",
        "print('the max is {}and min is {}'.format(hl[0],hl[1]))\n",
        "   "
      ],
      "metadata": {
        "colab": {
          "base_uri": "https://localhost:8080/"
        },
        "id": "sPEvkMme_7iT",
        "outputId": "44ddcd1c-bd3c-4ad8-b38b-d76971d1808b"
      },
      "execution_count": null,
      "outputs": [
        {
          "output_type": "stream",
          "name": "stdout",
          "text": [
            "the max is 8and min is 1\n"
          ]
        }
      ]
    },
    {
      "cell_type": "code",
      "source": [
        "#actual and formal parameters\n",
        "def ordered(n1,n2):\n",
        "     return (n1<n2)\n",
        "num1=int(input('enter ur age:'))\n",
        "num2=int(input('enter d bro age:'))\n",
        "if ordered(num1,num2):\n",
        "    print('your bro z elder')\n",
        "elif ordered(num2,num1):\n",
        "    print('ur bro z youngerr')\n",
        "else:\n",
        "    print('u r twinss')"
      ],
      "metadata": {
        "colab": {
          "base_uri": "https://localhost:8080/"
        },
        "id": "75cqVOD4A4wi",
        "outputId": "25065e21-25fe-4922-8941-1bd3ba9447ce"
      },
      "execution_count": null,
      "outputs": [
        {
          "output_type": "stream",
          "name": "stdout",
          "text": [
            "enter ur age:12\n",
            "enter d bro age:12\n",
            "u r twinss\n"
          ]
        }
      ]
    },
    {
      "cell_type": "code",
      "source": [
        "n=int(input('enter :'))\n",
        "sum=0\n",
        "for i in range(0,n):\n",
        "       s=int(input('enter :'))\n",
        "       sum=sum+s\n",
        "       print(sum)"
      ],
      "metadata": {
        "colab": {
          "base_uri": "https://localhost:8080/"
        },
        "id": "zgqnztC4HTAX",
        "outputId": "0cad3c37-9327-41f9-8dc1-6e1299397223"
      },
      "execution_count": null,
      "outputs": [
        {
          "output_type": "stream",
          "name": "stdout",
          "text": [
            "enter :2\n",
            "enter :11\n",
            "11\n",
            "enter :122\n",
            "133\n"
          ]
        }
      ]
    },
    {
      "cell_type": "code",
      "source": [
        "#mutable arguments\n",
        "def change(nums):\n",
        "  for k in range(0,len(nums)):\n",
        "    if nums[k]<0:\n",
        "      nums[k]=0\n",
        "  return (nums)\n",
        "nums=[-1,2,5,-7,9,-5]\n",
        "print(nums)\n",
        "t=change(nums)\n",
        "print(t)\n",
        "print(nums)"
      ],
      "metadata": {
        "colab": {
          "base_uri": "https://localhost:8080/"
        },
        "id": "WcSEgZycKCdN",
        "outputId": "87254600-682d-447c-f648-020d7b4ffc1a"
      },
      "execution_count": null,
      "outputs": [
        {
          "output_type": "stream",
          "name": "stdout",
          "text": [
            "[-1, 2, 5, -7, 9, -5]\n",
            "[0, 2, 5, 0, 9, 0]\n",
            "[0, 2, 5, 0, 9, 0]\n"
          ]
        }
      ]
    },
    {
      "cell_type": "code",
      "source": [
        "#variable scope\n",
        "def func1():\n",
        "  n=11\n",
        "  print(n)\n",
        "def func2():\n",
        "  n=13\n",
        "  print(n)\n",
        "  func1()\n",
        "  print(n)\n",
        "func2()"
      ],
      "metadata": {
        "colab": {
          "base_uri": "https://localhost:8080/"
        },
        "id": "51sIAsm6LdOK",
        "outputId": "4f14b22e-4e83-4693-e9de-05f8d168579f"
      },
      "execution_count": null,
      "outputs": [
        {
          "output_type": "stream",
          "name": "stdout",
          "text": [
            "13\n",
            "11\n",
            "13\n"
          ]
        }
      ]
    },
    {
      "cell_type": "code",
      "source": [
        "#global variable\n",
        "max=10\n",
        "def func1():\n",
        "  print(max)\n",
        "def func2():\n",
        "  max=2\n",
        "  print(max)\n",
        "  func1()\n",
        "  print(max)\n",
        "func2()\n"
      ],
      "metadata": {
        "colab": {
          "base_uri": "https://localhost:8080/"
        },
        "id": "nCPlyAPHQq_q",
        "outputId": "46de2f07-d2c2-4eab-a8d6-a9aa66b8d012"
      },
      "execution_count": null,
      "outputs": [
        {
          "output_type": "stream",
          "name": "stdout",
          "text": [
            "2\n",
            "10\n",
            "2\n"
          ]
        }
      ]
    },
    {
      "cell_type": "code",
      "source": [
        "2+'3'"
      ],
      "metadata": {
        "colab": {
          "base_uri": "https://localhost:8080/",
          "height": 165
        },
        "id": "asvEraG8WYfn",
        "outputId": "01725443-9851-4d96-f033-bcdcd31f37bb"
      },
      "execution_count": null,
      "outputs": [
        {
          "output_type": "error",
          "ename": "TypeError",
          "evalue": "ignored",
          "traceback": [
            "\u001b[0;31m---------------------------------------------------------------------------\u001b[0m",
            "\u001b[0;31mTypeError\u001b[0m                                 Traceback (most recent call last)",
            "\u001b[0;32m<ipython-input-20-c24d39b239a5>\u001b[0m in \u001b[0;36m<module>\u001b[0;34m()\u001b[0m\n\u001b[0;32m----> 1\u001b[0;31m \u001b[0;36m2\u001b[0m\u001b[0;34m+\u001b[0m\u001b[0;34m'3'\u001b[0m\u001b[0;34m\u001b[0m\u001b[0;34m\u001b[0m\u001b[0m\n\u001b[0m",
            "\u001b[0;31mTypeError\u001b[0m: unsupported operand type(s) for +: 'int' and 'str'"
          ]
        }
      ]
    },
    {
      "cell_type": "code",
      "source": [
        "st[0]"
      ],
      "metadata": {
        "colab": {
          "base_uri": "https://localhost:8080/",
          "height": 165
        },
        "id": "V6EDu61YWdWp",
        "outputId": "fc413321-54e3-4e50-9d11-6a08906c53f9"
      },
      "execution_count": null,
      "outputs": [
        {
          "output_type": "error",
          "ename": "NameError",
          "evalue": "ignored",
          "traceback": [
            "\u001b[0;31m---------------------------------------------------------------------------\u001b[0m",
            "\u001b[0;31mNameError\u001b[0m                                 Traceback (most recent call last)",
            "\u001b[0;32m<ipython-input-21-028cc1d9138b>\u001b[0m in \u001b[0;36m<module>\u001b[0;34m()\u001b[0m\n\u001b[0;32m----> 1\u001b[0;31m \u001b[0mst\u001b[0m\u001b[0;34m[\u001b[0m\u001b[0;36m0\u001b[0m\u001b[0;34m]\u001b[0m\u001b[0;34m\u001b[0m\u001b[0;34m\u001b[0m\u001b[0m\n\u001b[0m",
            "\u001b[0;31mNameError\u001b[0m: name 'st' is not defined"
          ]
        }
      ]
    },
    {
      "cell_type": "code",
      "source": [
        "n=int(input('enter d num:'))\n",
        "for i in range(1,11):\n",
        "  s=n*i\n",
        "  print('{}*{}={}'.format(n,i,s))\n"
      ],
      "metadata": {
        "colab": {
          "base_uri": "https://localhost:8080/"
        },
        "id": "B0qHFe83oKOg",
        "outputId": "3d959992-2279-4462-8fd4-2aae13ce5785"
      },
      "execution_count": null,
      "outputs": [
        {
          "output_type": "stream",
          "name": "stdout",
          "text": [
            "enter d num:5\n",
            "5*1=5\n",
            "5*2=10\n",
            "5*3=15\n",
            "5*4=20\n",
            "5*5=25\n",
            "5*6=30\n",
            "5*7=35\n",
            "5*8=40\n",
            "5*9=45\n",
            "5*10=50\n"
          ]
        }
      ]
    },
    {
      "cell_type": "code",
      "source": [
        "student={\"name\":\"emma\",\"class\":7,\"marks\":5}\n",
        "m=student.get('marks')\n",
        "print(m)"
      ],
      "metadata": {
        "id": "WDuycaRLLvBJ",
        "colab": {
          "base_uri": "https://localhost:8080/"
        },
        "outputId": "e118e961-38d2-47c4-d936-33cd0aca7c2b"
      },
      "execution_count": null,
      "outputs": [
        {
          "output_type": "stream",
          "name": "stdout",
          "text": [
            "5\n"
          ]
        }
      ]
    },
    {
      "cell_type": "code",
      "source": [
        "my_list=['p','y','t','h','o','n','p','r','o']\n",
        "my_list[:6]\n"
      ],
      "metadata": {
        "colab": {
          "base_uri": "https://localhost:8080/"
        },
        "id": "Q1ygDh2GCl0w",
        "outputId": "63da2e7a-cce1-4b89-a153-5c64e0dfd0da"
      },
      "execution_count": null,
      "outputs": [
        {
          "output_type": "execute_result",
          "data": {
            "text/plain": [
              "['p', 'y', 't', 'h', 'o', 'n']"
            ]
          },
          "metadata": {},
          "execution_count": 6
        }
      ]
    },
    {
      "cell_type": "code",
      "source": [
        "def cal(a,b):\n",
        "  output=a*b\n",
        "  print(output)\n",
        "cal(4,4)"
      ],
      "metadata": {
        "colab": {
          "base_uri": "https://localhost:8080/"
        },
        "id": "tysLlMGXDSct",
        "outputId": "32c7c91d-c4fc-433c-d945-7af55a7771cb"
      },
      "execution_count": null,
      "outputs": [
        {
          "output_type": "stream",
          "name": "stdout",
          "text": [
            "16\n"
          ]
        }
      ]
    },
    {
      "cell_type": "code",
      "source": [
        "a=[1,2,3,4,5]\n",
        "print(a.pop(0))\n",
        "print(a.pop(2))"
      ],
      "metadata": {
        "colab": {
          "base_uri": "https://localhost:8080/"
        },
        "id": "VES3_2-3ICbb",
        "outputId": "7975c51d-f9a7-4d7b-9bc8-60715feb2620"
      },
      "execution_count": null,
      "outputs": [
        {
          "output_type": "stream",
          "name": "stdout",
          "text": [
            "1\n",
            "4\n"
          ]
        }
      ]
    }
  ]
}